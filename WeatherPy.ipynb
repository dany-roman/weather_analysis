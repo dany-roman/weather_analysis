{
 "cells": [
  {
   "cell_type": "markdown",
   "metadata": {},
   "source": [
    "# WeatherPy\n",
    "----"
   ]
  },
  {
   "cell_type": "code",
   "execution_count": null,
   "metadata": {},
   "outputs": [],
   "source": [
    "# Observable trends\n",
    "# There is a linear trend between temperature and latitude.\n",
    "# There is no observable trend between latitude and humidity, cloudiness, and wind speed.\n",
    "# There is a strong negative linear correlation between increasing latitude and temperature in the northern hemisphere. As locations closer to 0 latitude are closest to the equator.\n",
    "# There is a strong positive linear correlation between increasing latitude and temperature in the southern hemisphere. As locations closer to 0 latitude are closest to the equator.\n",
    "# There is no linear correlation between latitude and humidity, cloudiness, and wind speed in the northern and southern hemisphere."
   ]
  },
  {
   "cell_type": "code",
   "execution_count": 5,
   "metadata": {
    "scrolled": true
   },
   "outputs": [],
   "source": [
    "# import dependencies\n",
    "import pandas as pd\n",
    "from numpy import random \n",
    "from citipy import citipy\n",
    "import matplotlib.pyplot as plt\n",
    "from scipy.stats import linregress\n",
    "import requests\n",
    "from pprint import pprint\n",
    "from config import weather_api_key\n",
    "import json"
   ]
  },
  {
   "cell_type": "markdown",
   "metadata": {},
   "source": [
    "## Generate Cities List"
   ]
  },
  {
   "cell_type": "code",
   "execution_count": 6,
   "metadata": {},
   "outputs": [
    {
     "data": {
      "text/html": [
       "<div>\n",
       "<style scoped>\n",
       "    .dataframe tbody tr th:only-of-type {\n",
       "        vertical-align: middle;\n",
       "    }\n",
       "\n",
       "    .dataframe tbody tr th {\n",
       "        vertical-align: top;\n",
       "    }\n",
       "\n",
       "    .dataframe thead th {\n",
       "        text-align: right;\n",
       "    }\n",
       "</style>\n",
       "<table border=\"1\" class=\"dataframe\">\n",
       "  <thead>\n",
       "    <tr style=\"text-align: right;\">\n",
       "      <th></th>\n",
       "      <th>rand_lat</th>\n",
       "      <th>rand_lon</th>\n",
       "      <th>City</th>\n",
       "      <th>Country</th>\n",
       "    </tr>\n",
       "  </thead>\n",
       "  <tbody>\n",
       "    <tr>\n",
       "      <th>0</th>\n",
       "      <td>-24.084345</td>\n",
       "      <td>-68.140025</td>\n",
       "      <td>calama</td>\n",
       "      <td>cl</td>\n",
       "    </tr>\n",
       "    <tr>\n",
       "      <th>1</th>\n",
       "      <td>-66.861468</td>\n",
       "      <td>135.567181</td>\n",
       "      <td>new norfolk</td>\n",
       "      <td>au</td>\n",
       "    </tr>\n",
       "    <tr>\n",
       "      <th>2</th>\n",
       "      <td>-49.896689</td>\n",
       "      <td>-132.850029</td>\n",
       "      <td>rikitea</td>\n",
       "      <td>pf</td>\n",
       "    </tr>\n",
       "    <tr>\n",
       "      <th>3</th>\n",
       "      <td>15.824268</td>\n",
       "      <td>51.834423</td>\n",
       "      <td>salalah</td>\n",
       "      <td>om</td>\n",
       "    </tr>\n",
       "    <tr>\n",
       "      <th>4</th>\n",
       "      <td>62.805359</td>\n",
       "      <td>114.955560</td>\n",
       "      <td>almaznyy</td>\n",
       "      <td>ru</td>\n",
       "    </tr>\n",
       "  </tbody>\n",
       "</table>\n",
       "</div>"
      ],
      "text/plain": [
       "    rand_lat    rand_lon         City Country\n",
       "0 -24.084345  -68.140025       calama      cl\n",
       "1 -66.861468  135.567181  new norfolk      au\n",
       "2 -49.896689 -132.850029      rikitea      pf\n",
       "3  15.824268   51.834423      salalah      om\n",
       "4  62.805359  114.955560     almaznyy      ru"
      ]
     },
     "execution_count": 6,
     "metadata": {},
     "output_type": "execute_result"
    }
   ],
   "source": [
    "# generate 1500 random floats between world latitude and longitude coordinates\n",
    "rand_lat_gen = random.uniform(-90,91,1500)\n",
    "rand_lon_gen = random.uniform(-180,181,1500)\n",
    "\n",
    "# create a dataframe from random coordinates\n",
    "city_corr = {\"rand_lat\": rand_lat_gen,\n",
    "            \"rand_lon\": rand_lon_gen}\n",
    "\n",
    "city_corr = pd.DataFrame(city_corr)\n",
    "\n",
    "# create empty city and country lists\n",
    "city_list = []\n",
    "country_list = []\n",
    "\n",
    "# loop through random coordinate pairs and find the closest city\n",
    "for i in city_corr.index:\n",
    "    latitude = city_corr.iloc[int(i),0]\n",
    "    longitude = city_corr.iloc[int(i),1]\n",
    "    location = citipy.nearest_city(latitude,longitude)\n",
    "    city = location.city_name\n",
    "    ctry = location.country_code\n",
    "    city_list.append(city)\n",
    "    country_list.append(ctry)\n",
    "\n",
    "# create city and country columns in the random coordinates list using city_list and country_list\n",
    "city_corr['City'] = city_list\n",
    "city_corr['Country'] = country_list\n",
    "\n",
    "# drop all duplicate cities\n",
    "city_corr = city_corr.drop_duplicates(subset=['City','Country'], keep='first', inplace=False)\n",
    "city_corr = city_corr.reset_index(drop=True)\n",
    "city_corr.head()"
   ]
  },
  {
   "cell_type": "markdown",
   "metadata": {},
   "source": [
    "### Perform API Calls\n",
    "* Perform a weather check on each city using a series of successive API calls.\n",
    "* Include a print log of each city as it'sbeing processed (with the city number and city name).\n"
   ]
  },
  {
   "cell_type": "code",
   "execution_count": 7,
   "metadata": {
    "scrolled": true
   },
   "outputs": [
    {
     "name": "stdout",
     "output_type": "stream",
     "text": [
      "Data found: Calama, cl\n",
      "Data found: New Norfolk, au\n",
      "Data found: Rikitea, pf\n",
      "Data found: Salalah, om\n",
      "Data found: Almaznyy, ru\n",
      "Data found: Ishigaki, jp\n",
      "Data found: Busselton, au\n",
      "Data found: Arlit, ne\n",
      "Data found: Carnarvon, au\n",
      "Data found: Avarua, ck\n",
      "Data found: Husavik, is\n",
      "Data found: Shinshiro, jp\n",
      "illoqqortoormiut not found\n",
      "Data found: Sitka, us\n",
      "Data found: Souillac, mu\n",
      "Data found: Joshīmath, in\n",
      "barentsburg not found\n",
      "Data found: Pisco, pe\n",
      "Data found: Ancud, cl\n",
      "Data found: Barrow, us\n",
      "Data found: Nikolskoye, ru\n",
      "Data found: Butaritari, ki\n",
      "Data found: Ushuaia, ar\n",
      "Data found: Hermanus, za\n",
      "Data found: Hilo, us\n",
      "Data found: Tripoli, ly\n",
      "Data found: New Haven, us\n",
      "Data found: Faanui, pf\n",
      "Data found: Yellowknife, ca\n",
      "Data found: Kruisfontein, za\n",
      "Data found: Gao, ml\n",
      "Data found: Northam, au\n",
      "Data found: San Quintín, mx\n",
      "Data found: Tura, ru\n",
      "Data found: Ponta do Sol, cv\n",
      "mataura not found\n",
      "saleaula not found\n",
      "Data found: Saint-Philippe, re\n",
      "Data found: Albany, au\n",
      "tsihombe not found\n",
      "Data found: Ylivieska, fi\n",
      "Data found: Alamogordo, us\n",
      "Data found: Jacareacanga, br\n",
      "Data found: Jamestown, sh\n",
      "Data found: Kasungu, mw\n",
      "Data found: Nome, us\n",
      "Data found: East London, za\n",
      "Data found: Gondanglegi, id\n",
      "Data found: Aldan, ru\n",
      "Data found: San Jose de Buan, ph\n",
      "Data found: Vaini, to\n",
      "Data found: Kimamba, tz\n",
      "Data found: Chiang Khong, th\n",
      "Data found: College, us\n",
      "Data found: Yārāda, in\n",
      "Data found: Port Pirie, au\n",
      "Data found: Quang Ngai, vn\n",
      "Data found: Majene, id\n",
      "Data found: Biloela, au\n",
      "Data found: Punta Arenas, cl\n",
      "Data found: Namuac, ph\n",
      "Data found: Mahébourg, mu\n",
      "Data found: Vostok, ru\n",
      "Data found: Cidreira, br\n",
      "Data found: Moerai, pf\n",
      "attawapiskat not found\n",
      "kamenskoye not found\n",
      "Data found: San Vicente, ph\n",
      "tumannyy not found\n",
      "Data found: Kuching, my\n",
      "Data found: Khatanga, ru\n",
      "Data found: Mackay, au\n",
      "Data found: Hobart, au\n",
      "Data found: Dingle, ie\n",
      "Data found: Itarema, br\n",
      "Data found: Atuona, pf\n",
      "Data found: Norman Wells, ca\n",
      "rungata not found\n",
      "Data found: Geraldton, au\n",
      "Data found: Fayaoué, nc\n",
      "Data found: Ballina, au\n",
      "Data found: Lavrentiya, ru\n",
      "Data found: Mīnāb, ir\n",
      "Data found: Puerto Ayora, ec\n",
      "Data found: Meulaboh, id\n",
      "Data found: Eatonton, us\n",
      "Data found: Mar del Plata, ar\n",
      "Data found: Kapaa, us\n",
      "Data found: Edéa, cm\n",
      "belushya guba not found\n",
      "Data found: Beringovskiy, ru\n",
      "Data found: Flinders, au\n",
      "mys shmidta not found\n",
      "Data found: Leningradskiy, ru\n",
      "Data found: Corning, us\n",
      "Data found: Constitucion, mx\n",
      "Data found: Flin Flon, ca\n",
      "Data found: Floresta, br\n",
      "Data found: Deputatsky, ru\n",
      "Data found: Touros, br\n",
      "Data found: Nanortalik, gl\n",
      "Data found: Kinsale, ie\n",
      "Data found: Yuxia, cn\n",
      "Data found: Port Elizabeth, za\n",
      "Data found: Ribeira Grande, pt\n",
      "Data found: Lumeje, ao\n",
      "Data found: Ngunguru, nz\n",
      "Data found: Lorengau, pg\n",
      "Data found: Camopi, gf\n",
      "Data found: Pangai, to\n",
      "Data found: Gusau, ng\n",
      "Data found: Fortuna, us\n",
      "Data found: Afuá, br\n",
      "vaitupu not found\n",
      "Data found: Kasongo-Lunda, cd\n",
      "Data found: Bluff, nz\n",
      "taolanaro not found\n",
      "Data found: Port Alfred, za\n",
      "Data found: Kaa-Khem, ru\n",
      "Data found: Launceston, au\n",
      "Data found: Troitskoye, ru\n",
      "Data found: Sioux Lookout, ca\n",
      "Data found: Huejuquilla el Alto, mx\n",
      "Data found: Hithadhoo, mv\n",
      "faya not found\n",
      "Data found: Novo Aripuanã, br\n",
      "Data found: Qaanaaq, gl\n",
      "Data found: Cape Town, za\n",
      "Data found: Guerrero Negro, mx\n",
      "Data found: Bonthe, sl\n",
      "Data found: Antofagasta, cl\n",
      "Data found: Chapais, ca\n",
      "Data found: Pevek, ru\n",
      "Data found: Bredasdorp, za\n",
      "Data found: Krasnosel'kup, ru\n",
      "Data found: Port-Gentil, ga\n",
      "sentyabrskiy not found\n",
      "Data found: Kahului, us\n",
      "Data found: Najrān, sa\n",
      "Data found: Sabha, ly\n",
      "Data found: Nakhon Phanom, th\n",
      "Data found: Tiksi, ru\n",
      "Data found: Dikson, ru\n",
      "Data found: Gorontalo, id\n",
      "Data found: Laguna de Perlas, ni\n",
      "Data found: Hasaki, jp\n",
      "diban not found\n",
      "Data found: San Cristobal, ec\n",
      "Data found: Mabaruma, gy\n",
      "Data found: Raudeberg, no\n",
      "Data found: Berlevåg, no\n",
      "Data found: San Rafael, bo\n",
      "airai not found\n",
      "Data found: Georgetown, sh\n",
      "kuche not found\n",
      "Data found: Upernavik, gl\n",
      "Data found: Tautira, pf\n",
      "Data found: Konëvo, ru\n",
      "Data found: Thompson, ca\n",
      "Data found: Coyhaique, cl\n",
      "Data found: North Bend, us\n",
      "avera not found\n",
      "Data found: Longyearbyen, sj\n",
      "Data found: Florianópolis, br\n",
      "Data found: Aykhal, ru\n",
      "Data found: Chokurdakh, ru\n",
      "Data found: Clyde River, ca\n",
      "Data found: Lebu, cl\n",
      "Data found: Port Blair, in\n",
      "Data found: Vila Velha, br\n",
      "Data found: Bambous Virieux, mu\n",
      "Data found: Nemuro, jp\n",
      "Data found: Kautokeino, no\n",
      "Data found: Manokwari, id\n",
      "Data found: Baghdad, iq\n",
      "Data found: Chui, uy\n",
      "Data found: Umluj, sa\n",
      "Data found: Gashua, ng\n",
      "Data found: Artesia, us\n",
      "Data found: Española, us\n",
      "Data found: Arraial do Cabo, br\n",
      "Data found: São José da Coroa Grande, br\n",
      "Data found: Pitimbu, br\n",
      "Data found: Tasiilaq, gl\n",
      "Data found: Baloda, in\n",
      "Data found: Shihezi, cn\n",
      "Data found: Nichinan, jp\n",
      "Data found: Vakhtan, ru\n",
      "Data found: Bandarbeyla, so\n",
      "Data found: Ust-Maya, ru\n",
      "Data found: Castro, cl\n",
      "Data found: Kogon, uz\n",
      "Data found: Beyneu, kz\n",
      "Data found: Qandala, so\n",
      "Data found: Saint Paul Harbor, us\n",
      "Data found: Biltine, td\n",
      "Data found: Rønde, dk\n",
      "Data found: Adrar, dz\n",
      "Data found: Kamaishi, jp\n",
      "Data found: Vila Franca do Campo, pt\n",
      "Data found: Barra, br\n",
      "Data found: Dalton, us\n",
      "marcona not found\n",
      "umzimvubu not found\n",
      "Data found: Laguna, br\n",
      "lolua not found\n",
      "Data found: Tateyama, jp\n",
      "Data found: Hofn, is\n",
      "nizhneyansk not found\n",
      "Data found: Aranos, na\n",
      "Data found: Nazrēt, et\n",
      "Data found: Bethel, us\n",
      "Data found: Taoudenni, ml\n",
      "Data found: Tarakan, id\n",
      "Data found: Teya, ru\n",
      "Data found: Ugoofaaru, mv\n",
      "Data found: Eskişehir, tr\n",
      "Data found: Grindavik, is\n",
      "Data found: Marystown, ca\n",
      "Data found: Garden City, us\n",
      "Data found: Sarangani, ph\n",
      "Data found: Luau, ao\n",
      "Data found: Nhulunbuy, au\n",
      "Data found: Rocha, uy\n",
      "Data found: Ilfracombe, gb\n",
      "grand river south east not found\n",
      "Data found: Chimbote, pe\n",
      "Data found: Kumul, cn\n",
      "Data found: Carman, ca\n",
      "Data found: Oyama, jp\n",
      "Data found: Yerbogachën, ru\n",
      "Data found: Rock Sound, bs\n",
      "warqla not found\n",
      "Data found: Bombay, nz\n",
      "Data found: Karlivka, ua\n",
      "Data found: Komsomol'skiy, ru\n",
      "Data found: Curuguaty, py\n",
      "Data found: Barroquinha, br\n",
      "Data found: Monrovia, lr\n",
      "Data found: Ganzhou, cn\n",
      "Data found: Severo-Kuril'sk, ru\n",
      "Data found: Samarai, pg\n",
      "Data found: Esperance, au\n",
      "Data found: Longmont, us\n",
      "Data found: Lagoa, pt\n",
      "Data found: Tazovsky, ru\n",
      "Data found: Harrisonburg, us\n",
      "Data found: Bengkulu, id\n",
      "Data found: Tyup, kg\n",
      "Data found: Portland, au\n",
      "Data found: Yamada, jp\n",
      "Data found: Ayna, pe\n",
      "bojaya not found\n",
      "codrington not found\n",
      "Data found: Kholm, ru\n",
      "Data found: Ilulissat, gl\n",
      "Data found: Mildura, au\n",
      "Data found: Tuktoyaktuk, ca\n",
      "lephepe not found\n",
      "Data found: Changping, cn\n",
      "Data found: Khandyga, ru\n",
      "crab hill not found\n",
      "Data found: Ryōtsu-minato, jp\n",
      "Data found: Mount Gambier, au\n",
      "Data found: Lüderitz, na\n",
      "Data found: Shyryayeve, ua\n",
      "Data found: Sakakah, sa\n",
      "Data found: Hūn, ly\n",
      "Data found: Abeokuta, ng\n",
      "Data found: Al Bardīyah, ly\n",
      "Data found: Phonhong, la\n",
      "Data found: Katsuura, jp\n",
      "geresk not found\n",
      "Data found: Cayenne, gf\n",
      "Data found: San Antero, co\n",
      "Data found: Banyo, cm\n",
      "Data found: Solnechnyy, ru\n",
      "Data found: Ramnagar, in\n",
      "Data found: Buala, sb\n",
      "Data found: Maple Creek, ca\n",
      "Data found: Ayní, tj\n",
      "Data found: Lompoc, us\n",
      "Data found: Kavieng, pg\n",
      "Data found: Olafsvik, is\n",
      "Data found: Moyobamba, pe\n",
      "Data found: Maţāy, eg\n",
      "Data found: Three Hills, ca\n",
      "Data found: Lago da Pedra, br\n",
      "Data found: Yumen, cn\n",
      "Data found: Ust-Nera, ru\n",
      "Data found: Sangīn, af\n",
      "Data found: Irecê, br\n",
      "Data found: Abrau-Dyurso, ru\n",
      "Data found: Saint George, bm\n",
      "Data found: Paamiut, gl\n",
      "Data found: Henties Bay, na\n",
      "Data found: Ereymentau, kz\n",
      "Data found: Tilichiki, ru\n",
      "samusu not found\n",
      "Data found: Ukiah, us\n",
      "Data found: Ponta do Sol, pt\n",
      "Data found: Álamos, mx\n",
      "Data found: Los Llanos de Aridane, es\n",
      "Data found: Mehamn, no\n",
      "Data found: Balabac, ph\n",
      "Data found: Marovoay, mg\n",
      "Data found: Iqaluit, ca\n",
      "Data found: Kaitangata, nz\n",
      "Data found: Sola, vu\n",
      "Data found: Jales, br\n",
      "Data found: Koumac, nc\n",
      "Data found: Dukat, ru\n",
      "Data found: Obihiro, jp\n",
      "Data found: Bunia, cd\n",
      "inderborskiy not found\n",
      "Data found: Natchez, us\n",
      "Data found: Bonavista, ca\n",
      "lasa not found\n",
      "Data found: Kailua, us\n",
      "Data found: Saint-François, gp\n",
      "Data found: Tezu, in\n",
      "Data found: South Kazakhstan Region, kz\n",
      "Data found: Port Hedland, au\n",
      "Data found: Talnakh, ru\n",
      "Data found: Marsala, it\n",
      "Data found: Aklavik, ca\n",
      "Data found: Carutapera, br\n",
      "gat not found\n",
      "Data found: Kangaatsiaq, gl\n",
      "Data found: Tigil', ru\n",
      "Data found: Cap Malheureux, mu\n"
     ]
    },
    {
     "name": "stdout",
     "output_type": "stream",
     "text": [
      "Data found: Agogo, gh\n",
      "Data found: Otane, nz\n",
      "Data found: Whitehorse, ca\n",
      "Data found: Kenai, us\n",
      "Data found: Turochak, ru\n",
      "Data found: Plettenberg Bay, za\n",
      "Data found: Sandy Bay, hn\n",
      "amderma not found\n",
      "Data found: Mahibadhoo, mv\n",
      "Data found: Tuatapere, nz\n",
      "Data found: Petropavlovsk-Kamchatskiy, ru\n",
      "Data found: Sawākin, sd\n",
      "Data found: Dinghaicun, cn\n",
      "Data found: Te Anau, nz\n",
      "Data found: Westport, ie\n",
      "Data found: Apucarana, br\n",
      "Data found: Bela, pk\n",
      "Data found: Wa, gh\n",
      "Data found: Oktyabr'skoye, ru\n",
      "Data found: Poltava, ua\n",
      "Data found: Rio Grande, br\n",
      "Data found: Kem', ru\n",
      "Data found: Tupi Paulista, br\n",
      "Data found: Acaraú, br\n",
      "Data found: Sarakhs, ir\n",
      "Data found: Cherskiy, ru\n",
      "Data found: Ossora, ru\n",
      "Data found: Mindelo, cv\n",
      "Data found: San Patricio, mx\n",
      "mahadday weyne not found\n",
      "Data found: Pāveh, ir\n",
      "Data found: Stornoway, gb\n",
      "Data found: Roald, no\n",
      "Data found: São Filipe, cv\n",
      "tubruq not found\n",
      "Data found: Réo, bf\n",
      "Data found: Shaowu, cn\n",
      "Data found: Grand Gaube, mu\n",
      "Data found: Saskylakh, ru\n",
      "Data found: Ahipara, nz\n",
      "Data found: Bacnotan, ph\n",
      "Data found: Bouna, ci\n",
      "Data found: Mwense, zm\n",
      "Data found: Klaksvík, fo\n",
      "Data found: Richards Bay, za\n",
      "Data found: Bilibino, ru\n",
      "Data found: Bāsār, in\n",
      "Data found: Leshukonskoye, ru\n",
      "Data found: Ostrovnoy, ru\n",
      "Data found: Marrakesh, ma\n",
      "Data found: Kavaratti, in\n",
      "Data found: Caldas Novas, br\n",
      "Data found: Peru, us\n",
      "Data found: Tamiahua, mx\n",
      "Data found: Torbay, ca\n",
      "ambodifototra not found\n",
      "Data found: Shimoda, jp\n",
      "Data found: Itoman, jp\n",
      "Data found: Ararat, au\n",
      "Data found: Ixtapa, mx\n",
      "Data found: Lincoln, nz\n",
      "chagda not found\n",
      "lata not found\n",
      "Data found: Rostock, de\n",
      "Data found: Bosaso, so\n",
      "Data found: Homun, mx\n",
      "samalaeulu not found\n",
      "Data found: Tornio, fi\n",
      "Data found: Naze, jp\n",
      "Data found: Panguna, pg\n",
      "hihifo not found\n",
      "Data found: Shakawe, bw\n",
      "Data found: Mayumba, ga\n",
      "Data found: Bubaque, gw\n",
      "Data found: Ahtopol, bg\n",
      "Data found: Muravlenko, ru\n",
      "Data found: Buraidah, sa\n",
      "Data found: Grootfontein, na\n",
      "Data found: Bariloche, ar\n",
      "Data found: Sur, om\n",
      "Data found: Sangmélima, cm\n",
      "tapaua not found\n",
      "Data found: Yulara, au\n",
      "Data found: Ambon City, id\n",
      "Data found: Isangel, vu\n",
      "Data found: Misratah, ly\n",
      "Data found: Qaqortoq, gl\n",
      "Data found: Gravdal, no\n",
      "Data found: Port Hardy, ca\n",
      "Data found: Fukuechō, jp\n",
      "Data found: Māngrol, in\n",
      "Data found: Cabo San Lucas, mx\n",
      "goderich not found\n",
      "Data found: Tegul'det, ru\n",
      "Data found: Victor Harbor, au\n",
      "Data found: Margate, za\n",
      "Data found: Spencer, us\n",
      "Data found: Kovūr, in\n",
      "Data found: Erzin, ru\n",
      "barbar not found\n",
      "Data found: Vestmannaeyjar, is\n",
      "Data found: Iracoubo, gf\n",
      "Data found: Vágur, fo\n",
      "Data found: Jitra, my\n",
      "Data found: Port Macquarie, au\n",
      "Data found: Brumado, br\n",
      "Data found: Mana, gf\n",
      "Data found: Rebrikha, ru\n",
      "Data found: São João da Barra, br\n",
      "Data found: Tandil, ar\n",
      "Data found: Port Augusta, au\n",
      "Data found: Nantucket, us\n",
      "Data found: Pallasovka, ru\n",
      "Data found: Geraldton, ca\n",
      "Data found: Kudahuvadhoo, mv\n",
      "Data found: Wichita Falls, us\n",
      "Data found: Camacha, pt\n",
      "Data found: Dryden, ca\n",
      "Data found: Callaway, us\n",
      "Data found: Colares, pt\n",
      "Data found: Kayerkan, ru\n",
      "Data found: Tūkrah, ly\n",
      "Data found: Mitú, co\n",
      "Data found: Collie, au\n",
      "Data found: Khovd, mn\n",
      "Data found: Panabá, mx\n",
      "Data found: Arcata, us\n",
      "Data found: Bathsheba, bb\n",
      "Data found: Nouakchott, mr\n",
      "Data found: Broome, au\n",
      "Data found: Pangody, ru\n",
      "Data found: Biak, id\n",
      "Data found: Mount Isa, au\n",
      "Data found: Towada, jp\n",
      "Data found: Mlonggo, id\n",
      "Data found: Yenagoa, ng\n",
      "Data found: Hammerfest, no\n",
      "Data found: Virginia Beach, us\n",
      "Data found: Padang, id\n",
      "Data found: Ciudad Bolivar, ve\n",
      "Data found: Kota, in\n",
      "Data found: San Ignacio, mx\n",
      "Data found: São Raimundo das Mangabeiras, br\n",
      "Data found: Kisangani, cd\n",
      "Data found: Sussex, ca\n",
      "karaul not found\n",
      "Data found: Gumdag, tm\n",
      "Data found: Srednekolymsk, ru\n",
      "Data found: Ormstown, ca\n",
      "Data found: Igarka, ru\n",
      "Data found: Methóni, gr\n",
      "Data found: Springfield, us\n",
      "Data found: Lashio, mm\n",
      "Data found: Ndola, zm\n",
      "mergui not found\n",
      "Data found: Zdvinsk, ru\n",
      "Data found: Kaeo, nz\n",
      "Data found: Brewster, us\n",
      "tarudant not found\n",
      "Data found: Shar, kz\n",
      "Data found: Jalu, ly\n",
      "Data found: Kutum, sd\n",
      "Data found: Broken Hill, au\n",
      "Data found: Terra Santa, br\n",
      "Data found: Rognan, no\n",
      "Data found: Taltal, cl\n",
      "Data found: Waddān, ly\n",
      "Data found: Verkhnyaya Inta, ru\n",
      "Data found: Leh, in\n",
      "Data found: Hamilton, bm\n",
      "Data found: Kalmunai, lk\n",
      "Data found: Roebourne, au\n",
      "Data found: Esim, gh\n",
      "Data found: Nyurba, ru\n",
      "Data found: Karasjok, no\n",
      "Data found: Narsaq, gl\n",
      "Data found: Pucallpa, pe\n",
      "Data found: Āsandh, in\n",
      "Data found: Victoria, sc\n",
      "Data found: Estelle, us\n",
      "Data found: Atibaia, br\n",
      "Data found: Pierre, us\n",
      "Data found: Banda Aceh, id\n",
      "Data found: Menongue, ao\n",
      "Data found: Simao, cn\n",
      "Data found: Kamenka, ru\n",
      "Data found: Saldanha, za\n",
      "rawannawi not found\n",
      "Data found: Provideniya, ru\n",
      "Data found: Görele, tr\n",
      "Data found: Bay Roberts, ca\n",
      "Data found: San Lucas, mx\n",
      "Data found: Ola, ru\n",
      "Data found: Mapiripán, co\n",
      "Data found: Tolaga Bay, nz\n",
      "Data found: Kendari, id\n",
      "Data found: Marsh Harbour, bs\n",
      "Data found: Ankpa, ng\n",
      "taburi not found\n",
      "Data found: Macheng, cn\n",
      "Data found: Dawlatabad, af\n",
      "Data found: Rawson, ar\n",
      "Data found: Tyukhtet, ru\n",
      "Data found: Nuuk, gl\n",
      "Data found: Šenčur, si\n",
      "Data found: Bethanien, na\n",
      "Data found: Chardara, kz\n",
      "Data found: Villanueva de Córdoba, es\n",
      "Data found: Bahía de Caráquez, ec\n",
      "Data found: Honiara, sb\n",
      "Data found: Tsimmerbude, ru\n",
      "Data found: Dom Pedrito, br\n",
      "wahran not found\n",
      "Data found: San Policarpo, ph\n",
      "Data found: Pangoa, pe\n",
      "Data found: Ionia, us\n",
      "Data found: Dakar, sn\n",
      "Data found: Pacifica, us\n",
      "Data found: Tabou, ci\n",
      "Data found: Hauterive, ca\n",
      "sedelnikovo not found\n",
      "Data found: Muros, es\n",
      "Data found: Sala Consilina, it\n",
      "Data found: Olhão, pt\n",
      "Data found: Zhaoyang, cn\n",
      "Data found: Fillan, no\n",
      "Data found: Byron Bay, au\n",
      "meyungs not found\n",
      "Data found: Kemijärvi, fi\n",
      "alotau not found\n",
      "Data found: Kieta, pg\n",
      "Data found: Eureka, us\n",
      "skalistyy not found\n",
      "Data found: Sumenep, id\n",
      "Data found: Djambala, cg\n",
      "Data found: Lewistown, us\n",
      "Data found: Salinas, br\n",
      "Data found: Blackburn, gb\n",
      "Data found: Innisfail, au\n",
      "Data found: Phalombe, mw\n",
      "Data found: Killybegs, ie\n",
      "Data found: Ketchikan, us\n",
      "Data found: Fenoarivo Atsinanana, mg\n",
      "Data found: Todos Santos, mx\n",
      "karauzyak not found\n",
      "Data found: Anda, cn\n",
      "Data found: Thunder Bay, ca\n",
      "Data found: Masty, by\n",
      "Data found: Buribay, ru\n",
      "Data found: Nizhniye Sergi, ru\n",
      "Data found: Necochea, ar\n",
      "Data found: Murom, ru\n",
      "Data found: Mosquera, co\n",
      "Data found: Seoul, kr\n",
      "Data found: Pauini, br\n",
      "Data found: Chauk, mm\n",
      "Data found: Coruripe, br\n",
      "Data found: Andros, gr\n",
      "Data found: Pemangkat, id\n",
      "Data found: Katastari, gr\n",
      "Data found: Lakes Entrance, au\n",
      "Data found: Acapulco de Juárez, mx\n",
      "Data found: Palafrugell, es\n",
      "Data found: Sabang, id\n",
      "Data found: Kattivākkam, in\n",
      "Data found: Korla, cn\n",
      "Data found: Brae, gb\n",
      "Data found: Aswān, eg\n",
      "Data found: Tombouctou, ml\n",
      "Data found: Santa Isabel Rio Negro, br\n",
      "Data found: Pochutla, mx\n",
      "Data found: Saint-Pierre, pm\n",
      "Data found: Impfondo, cg\n",
      "Data found: Campbellton, ca\n",
      "Data found: Storforshei, no\n",
      "Data found: Nueva Gerona, cu\n",
      "Data found: Lunéville, fr\n",
      "ardistan not found\n"
     ]
    }
   ],
   "source": [
    "# create empty lists\n",
    "city_lats = []\n",
    "city_lons = []\n",
    "city_names = []\n",
    "cloudss = []\n",
    "countrys = []\n",
    "dates = []\n",
    "humiditys = []\n",
    "max_temps = []\n",
    "wind_speeds = []\n",
    "\n",
    "# loop through the city and countries and find the weather data\n",
    "\n",
    "for i in city_corr.index:\n",
    "    city_name = city_corr.iloc[int(i),2]\n",
    "    country_code = city_corr.iloc[int(i),3]\n",
    "    \n",
    "    url = f\"http://api.openweathermap.org/data/2.5/weather?q={city_name},{country_code}&appid={weather_api_key}&cnt=1&units=imperial\"\n",
    "    cities = requests.get(url).json()\n",
    "    \n",
    "    try:\n",
    "        city_lat = cities['coord']['lat']\n",
    "        city_lon = cities['coord']['lon']\n",
    "        city_name = cities['name']\n",
    "        clouds = cities['clouds']['all']\n",
    "        country = cities['sys']['country']\n",
    "        date = cities['dt']\n",
    "        humidity = cities['main']['humidity']\n",
    "        max_temp = cities['main']['temp_max']\n",
    "        wind_speed = cities['wind']['speed']\n",
    "        \n",
    "        city_lats.append(city_lat)\n",
    "        city_lons.append(city_lon)\n",
    "        city_names.append(city_name)\n",
    "        cloudss.append(clouds)\n",
    "        countrys.append(country)\n",
    "        dates.append(date)\n",
    "        humiditys.append(humidity)\n",
    "        max_temps.append(max_temp)\n",
    "        wind_speeds.append(wind_speed)\n",
    "        \n",
    "        print(f\"Data found: {city_name}, {country_code}\")\n",
    "    \n",
    "    except KeyError as e:\n",
    "        print(f'{city_name} not found')\n",
    "    \n"
   ]
  },
  {
   "cell_type": "markdown",
   "metadata": {},
   "source": [
    "### Convert Raw Data to DataFrame\n",
    "* Export the city data into a .csv.\n",
    "* Display the DataFrame"
   ]
  },
  {
   "cell_type": "code",
   "execution_count": 8,
   "metadata": {},
   "outputs": [
    {
     "name": "stdout",
     "output_type": "stream",
     "text": [
      "552 cities found\n"
     ]
    },
    {
     "data": {
      "text/html": [
       "<div>\n",
       "<style scoped>\n",
       "    .dataframe tbody tr th:only-of-type {\n",
       "        vertical-align: middle;\n",
       "    }\n",
       "\n",
       "    .dataframe tbody tr th {\n",
       "        vertical-align: top;\n",
       "    }\n",
       "\n",
       "    .dataframe thead th {\n",
       "        text-align: right;\n",
       "    }\n",
       "</style>\n",
       "<table border=\"1\" class=\"dataframe\">\n",
       "  <thead>\n",
       "    <tr style=\"text-align: right;\">\n",
       "      <th></th>\n",
       "      <th>City</th>\n",
       "      <th>Country</th>\n",
       "      <th>City_Latitude</th>\n",
       "      <th>City_Longitude</th>\n",
       "      <th>Date</th>\n",
       "      <th>Cloudiness</th>\n",
       "      <th>Humidity</th>\n",
       "      <th>Max Temp</th>\n",
       "      <th>Wind Speed</th>\n",
       "    </tr>\n",
       "  </thead>\n",
       "  <tbody>\n",
       "    <tr>\n",
       "      <th>0</th>\n",
       "      <td>Calama</td>\n",
       "      <td>CL</td>\n",
       "      <td>-22.4667</td>\n",
       "      <td>-68.9333</td>\n",
       "      <td>1622219741</td>\n",
       "      <td>40</td>\n",
       "      <td>41</td>\n",
       "      <td>61.29</td>\n",
       "      <td>1.14</td>\n",
       "    </tr>\n",
       "    <tr>\n",
       "      <th>1</th>\n",
       "      <td>New Norfolk</td>\n",
       "      <td>AU</td>\n",
       "      <td>-42.7826</td>\n",
       "      <td>147.0587</td>\n",
       "      <td>1622219745</td>\n",
       "      <td>19</td>\n",
       "      <td>66</td>\n",
       "      <td>45.90</td>\n",
       "      <td>1.01</td>\n",
       "    </tr>\n",
       "    <tr>\n",
       "      <th>2</th>\n",
       "      <td>Rikitea</td>\n",
       "      <td>PF</td>\n",
       "      <td>-23.1203</td>\n",
       "      <td>-134.9692</td>\n",
       "      <td>1622219699</td>\n",
       "      <td>69</td>\n",
       "      <td>71</td>\n",
       "      <td>73.96</td>\n",
       "      <td>17.11</td>\n",
       "    </tr>\n",
       "    <tr>\n",
       "      <th>3</th>\n",
       "      <td>Salalah</td>\n",
       "      <td>OM</td>\n",
       "      <td>17.0151</td>\n",
       "      <td>54.0924</td>\n",
       "      <td>1622219664</td>\n",
       "      <td>20</td>\n",
       "      <td>84</td>\n",
       "      <td>86.09</td>\n",
       "      <td>5.75</td>\n",
       "    </tr>\n",
       "    <tr>\n",
       "      <th>4</th>\n",
       "      <td>Almaznyy</td>\n",
       "      <td>RU</td>\n",
       "      <td>48.0448</td>\n",
       "      <td>40.0450</td>\n",
       "      <td>1622219939</td>\n",
       "      <td>55</td>\n",
       "      <td>72</td>\n",
       "      <td>71.74</td>\n",
       "      <td>8.19</td>\n",
       "    </tr>\n",
       "  </tbody>\n",
       "</table>\n",
       "</div>"
      ],
      "text/plain": [
       "          City Country  City_Latitude  City_Longitude        Date  Cloudiness  \\\n",
       "0       Calama      CL       -22.4667        -68.9333  1622219741          40   \n",
       "1  New Norfolk      AU       -42.7826        147.0587  1622219745          19   \n",
       "2      Rikitea      PF       -23.1203       -134.9692  1622219699          69   \n",
       "3      Salalah      OM        17.0151         54.0924  1622219664          20   \n",
       "4     Almaznyy      RU        48.0448         40.0450  1622219939          55   \n",
       "\n",
       "   Humidity  Max Temp  Wind Speed  \n",
       "0        41     61.29        1.14  \n",
       "1        66     45.90        1.01  \n",
       "2        71     73.96       17.11  \n",
       "3        84     86.09        5.75  \n",
       "4        72     71.74        8.19  "
      ]
     },
     "execution_count": 8,
     "metadata": {},
     "output_type": "execute_result"
    }
   ],
   "source": [
    "# create a dataframe summarizing the city weather\n",
    "\n",
    "city_weather = {\n",
    "    'City': city_names,\n",
    "    'Country': countrys,\n",
    "    'City_Latitude': city_lats,\n",
    "    'City_Longitude': city_lons,\n",
    "    'Date': dates,\n",
    "    'Cloudiness': cloudss,\n",
    "    'Humidity': humiditys,\n",
    "    'Max Temp': max_temps,\n",
    "    'Wind Speed': wind_speeds}\n",
    "\n",
    "city_weather = pd.DataFrame(city_weather)\n",
    "\n",
    "# export the dataframe as a csv file\n",
    "city_weather.to_csv(\"output_data/city_weather.csv\", index=False, header=True)\n",
    "print(f\"{city_weather['City'].count()} cities found\")\n",
    "city_weather.head()"
   ]
  },
  {
   "cell_type": "markdown",
   "metadata": {},
   "source": [
    "## Plotting the Data\n",
    "* Use proper labeling of the plots using plot titles (including date of analysis) and axes labels.\n",
    "* Save the plotted figures as .pngs."
   ]
  },
  {
   "cell_type": "markdown",
   "metadata": {},
   "source": [
    "## Latitude vs. Temperature Plot"
   ]
  },
  {
   "cell_type": "code",
   "execution_count": 9,
   "metadata": {
    "scrolled": true
   },
   "outputs": [
    {
     "data": {
      "image/png": "[encoded data removed]",
      "text/plain": [
       "<Figure size 432x288 with 1 Axes>"
      ]
     },
     "metadata": {
      "needs_background": "light"
     },
     "output_type": "display_data"
    },
    {
     "name": "stdout",
     "output_type": "stream",
     "text": [
      "Comparing temperature by latitude on 5/24/2021. Follows a linear trend\n"
     ]
    }
   ],
   "source": [
    "# create a scatter plot from the latitude and temperatures\n",
    "Latitude = city_weather['City_Latitude']\n",
    "Temperature = city_weather['Max Temp']\n",
    "plt.scatter(Latitude, Temperature)\n",
    "\n",
    "# format the axes of the plot\n",
    "plt.xlabel('Latitude')\n",
    "plt.ylabel('Temperature (F)')\n",
    "plt.title('Temperature by Latitude on 5/24/2021')\n",
    "plt.show()\n",
    "print('Comparing temperature by latitude on 5/24/2021. Follows a linear trend')"
   ]
  },
  {
   "cell_type": "markdown",
   "metadata": {},
   "source": [
    "## Latitude vs. Humidity Plot"
   ]
  },
  {
   "cell_type": "code",
   "execution_count": 10,
   "metadata": {},
   "outputs": [
    {
     "data": {
      "image/png": "[encoded data removed]",
      "text/plain": [
       "<Figure size 432x288 with 1 Axes>"
      ]
     },
     "metadata": {
      "needs_background": "light"
     },
     "output_type": "display_data"
    },
    {
     "name": "stdout",
     "output_type": "stream",
     "text": [
      "Comparing % humidity by latitude on 5/24/2021. There is no obvious trend\n"
     ]
    }
   ],
   "source": [
    "# create a scatter plot from the latitude and humidity\n",
    "Latitude = city_weather['City_Latitude']\n",
    "Humidity = city_weather['Humidity']\n",
    "plt.scatter(Latitude, Humidity)\n",
    "\n",
    "# format the axes of the plot\n",
    "plt.xlabel('Latitude')\n",
    "plt.ylabel('% Humidity')\n",
    "plt.title('% Humidity by Latitude on 5/24/2021')\n",
    "plt.show()\n",
    "\n",
    "print('Comparing % humidity by latitude on 5/24/2021. There is no obvious trend')"
   ]
  },
  {
   "cell_type": "markdown",
   "metadata": {},
   "source": [
    "## Latitude vs. Cloudiness Plot"
   ]
  },
  {
   "cell_type": "code",
   "execution_count": 11,
   "metadata": {},
   "outputs": [
    {
     "data": {
      "image/png": "[encoded data removed]",
      "text/plain": [
       "<Figure size 432x288 with 1 Axes>"
      ]
     },
     "metadata": {
      "needs_background": "light"
     },
     "output_type": "display_data"
    },
    {
     "name": "stdout",
     "output_type": "stream",
     "text": [
      "Comparing % cloudiness by latitude on 5/24/2021. There is no obvious trend\n"
     ]
    }
   ],
   "source": [
    "# create a scatter plot from the latitude and cloudiness\n",
    "Latitude = city_weather['City_Latitude']\n",
    "Cloudiness = city_weather['Cloudiness']\n",
    "plt.scatter(Latitude, Cloudiness)\n",
    "\n",
    "plt.xlabel('Latitude')\n",
    "plt.ylabel('% Cloudiness')\n",
    "plt.title('% Cloudiness by Latitude on 5/24/2021')\n",
    "plt.show()\n",
    "\n",
    "print('Comparing % cloudiness by latitude on 5/24/2021. There is no obvious trend')"
   ]
  },
  {
   "cell_type": "markdown",
   "metadata": {},
   "source": [
    "## Latitude vs. Wind Speed Plot"
   ]
  },
  {
   "cell_type": "code",
   "execution_count": 12,
   "metadata": {},
   "outputs": [
    {
     "data": {
      "image/png": "[encoded data removed]",
      "text/plain": [
       "<Figure size 432x288 with 1 Axes>"
      ]
     },
     "metadata": {
      "needs_background": "light"
     },
     "output_type": "display_data"
    },
    {
     "name": "stdout",
     "output_type": "stream",
     "text": [
      "Comparing windspeed by latitude on 5/24/2021. There is no obvious trend\n"
     ]
    }
   ],
   "source": [
    "# create a scatter plot from the latitude and windspeed\n",
    "Latitude = city_weather['City_Latitude']\n",
    "Wind = city_weather['Wind Speed']\n",
    "plt.scatter(Latitude, Wind)\n",
    "\n",
    "plt.xlabel('Latitude')\n",
    "plt.ylabel('Wind Speed (mph)')\n",
    "plt.title('Wind Speed (mph) by Latitude on 5/24/2021')\n",
    "plt.show()\n",
    "\n",
    "print('Comparing windspeed by latitude on 5/24/2021. There is no obvious trend')"
   ]
  },
  {
   "cell_type": "markdown",
   "metadata": {},
   "source": [
    "## Linear Regression"
   ]
  },
  {
   "cell_type": "markdown",
   "metadata": {},
   "source": [
    "####  Northern Hemisphere - Max Temp vs. Latitude Linear Regression"
   ]
  },
  {
   "cell_type": "code",
   "execution_count": 13,
   "metadata": {},
   "outputs": [
    {
     "name": "stdout",
     "output_type": "stream",
     "text": [
      "There is a strong negative linear correlation between temperature and increasing latitude\n"
     ]
    },
    {
     "data": {
      "image/png": "[encoded data removed]",
      "text/plain": [
       "<Figure size 432x288 with 1 Axes>"
      ]
     },
     "metadata": {
      "needs_background": "light"
     },
     "output_type": "display_data"
    }
   ],
   "source": [
    "# create a subset of data for the north hemisphere\n",
    "n_hemisphere = city_weather[city_weather['City_Latitude'] >= 0]\n",
    "\n",
    "# create a scatter plot from the latitude and temperature\n",
    "Latitude = n_hemisphere['City_Latitude']\n",
    "Temperature = n_hemisphere['Max Temp']\n",
    "\n",
    "plt.xlabel('Latitude')\n",
    "plt.ylabel('Temperature (F)')\n",
    "plt.title('Temperature by Latitude on 5/24/2021')\n",
    "\n",
    "# plot a trendline on the graph\n",
    "x_values = Latitude\n",
    "y_values = Temperature\n",
    "(slope, intercept, rvalue, pvalue, stderr) = linregress(x_values, y_values)\n",
    "regress_values = x_values * slope + intercept\n",
    "line_eq = \"y = \" + str(round(slope,2)) + \"x + \" + str(round(intercept,2))\n",
    "plt.scatter(x_values,y_values)\n",
    "plt.plot(x_values,regress_values,\"r-\")\n",
    "plt.annotate(line_eq,(0,20),fontsize=10,color=\"red\")\n",
    "\n",
    "print('There is a strong negative linear correlation between temperature and increasing latitude')"
   ]
  },
  {
   "cell_type": "markdown",
   "metadata": {},
   "source": [
    "####  Southern Hemisphere - Max Temp vs. Latitude Linear Regression"
   ]
  },
  {
   "cell_type": "code",
   "execution_count": 14,
   "metadata": {},
   "outputs": [
    {
     "name": "stdout",
     "output_type": "stream",
     "text": [
      "There is a strong positive linear correlation between temperature and increasing latitude\n"
     ]
    },
    {
     "data": {
      "image/png": "[encoded data removed]",
      "text/plain": [
       "<Figure size 432x288 with 1 Axes>"
      ]
     },
     "metadata": {
      "needs_background": "light"
     },
     "output_type": "display_data"
    }
   ],
   "source": [
    "# create a subset of data for the southern hemisphere\n",
    "s_hemisphere = city_weather[city_weather['City_Latitude'] < 0]\n",
    "\n",
    "# identify data for the latitude and temperature plot\n",
    "Latitude = s_hemisphere['City_Latitude']\n",
    "Temperature = s_hemisphere['Max Temp']\n",
    "\n",
    "plt.xlabel('Latitude')\n",
    "plt.ylabel('Temperature (F)')\n",
    "plt.title('Temperature by Latitude on 5/24/2021')\n",
    "\n",
    "# Plot the trendline\n",
    "x_values = Latitude\n",
    "y_values = Temperature\n",
    "(slope, intercept, rvalue, pvalue, stderr) = linregress(x_values, y_values)\n",
    "regress_values = x_values * slope + intercept\n",
    "line_eq = \"y = \" + str(round(slope,2)) + \"x + \" + str(round(intercept,2))\n",
    "plt.scatter(x_values,y_values)\n",
    "plt.plot(x_values,regress_values,\"r-\")\n",
    "plt.annotate(line_eq,(-55,85),fontsize=10,color=\"red\")\n",
    "\n",
    "print('There is a strong positive linear correlation between temperature and increasing latitude')"
   ]
  },
  {
   "cell_type": "markdown",
   "metadata": {},
   "source": [
    "####  Northern Hemisphere - Humidity (%) vs. Latitude Linear Regression"
   ]
  },
  {
   "cell_type": "code",
   "execution_count": 15,
   "metadata": {},
   "outputs": [
    {
     "name": "stdout",
     "output_type": "stream",
     "text": [
      "There is no correlation between humidity and increasing latitude\n"
     ]
    },
    {
     "data": {
      "image/png": "[encoded data removed]",
      "text/plain": [
       "<Figure size 432x288 with 1 Axes>"
      ]
     },
     "metadata": {
      "needs_background": "light"
     },
     "output_type": "display_data"
    }
   ],
   "source": [
    "# create a subset of data for the northern hemisphere\n",
    "n_hemisphere = city_weather[city_weather['City_Latitude'] >= 0]\n",
    "\n",
    "# identify data for the latitude and humidity plot\n",
    "Latitude = n_hemisphere['City_Latitude']\n",
    "Humidity = n_hemisphere['Humidity']\n",
    "\n",
    "plt.xlabel('Latitude')\n",
    "plt.ylabel('% Humidity')\n",
    "plt.title('% Humidity by Latitude on 5/24/2021')\n",
    "\n",
    "# Plot the trendline\n",
    "x_values = Latitude\n",
    "y_values = Humidity\n",
    "(slope, intercept, rvalue, pvalue, stderr) = linregress(x_values, y_values)\n",
    "regress_values = x_values * slope + intercept\n",
    "line_eq = \"y = \" + str(round(slope,2)) + \"x + \" + str(round(intercept,2))\n",
    "plt.scatter(x_values,y_values)\n",
    "plt.plot(x_values,regress_values,\"r-\")\n",
    "plt.annotate(line_eq,(0,5),fontsize=10,color=\"red\")\n",
    "\n",
    "print('There is no correlation between humidity and increasing latitude')"
   ]
  },
  {
   "cell_type": "markdown",
   "metadata": {},
   "source": [
    "####  Southern Hemisphere - Humidity (%) vs. Latitude Linear Regression"
   ]
  },
  {
   "cell_type": "code",
   "execution_count": 16,
   "metadata": {},
   "outputs": [
    {
     "name": "stdout",
     "output_type": "stream",
     "text": [
      "There is no correlation between humidity and decreasing latitude\n"
     ]
    },
    {
     "data": {
      "image/png": "[encoded data removed]",
      "text/plain": [
       "<Figure size 432x288 with 1 Axes>"
      ]
     },
     "metadata": {
      "needs_background": "light"
     },
     "output_type": "display_data"
    }
   ],
   "source": [
    "# create a subset of data for the northern hemisphere\n",
    "s_hemisphere = city_weather[city_weather['City_Latitude'] < 0]\n",
    "\n",
    "# identify data for the latitude and humidity plot\n",
    "Latitude = s_hemisphere['City_Latitude']\n",
    "Humidity = s_hemisphere['Humidity']\n",
    "\n",
    "plt.xlabel('Latitude')\n",
    "plt.ylabel('% Humidity')\n",
    "plt.title('% Humidity by Latitude on 5/24/2021')\n",
    "\n",
    "# Plot the trendline\n",
    "x_values = Latitude\n",
    "y_values = Humidity\n",
    "(slope, intercept, rvalue, pvalue, stderr) = linregress(x_values, y_values)\n",
    "regress_values = x_values * slope + intercept\n",
    "line_eq = \"y = \" + str(round(slope,2)) + \"x + \" + str(round(intercept,2))\n",
    "plt.scatter(x_values,y_values)\n",
    "plt.plot(x_values,regress_values,\"r-\")\n",
    "plt.annotate(line_eq,(-55,20),fontsize=10,color=\"red\")\n",
    "\n",
    "print('There is no correlation between humidity and decreasing latitude')"
   ]
  },
  {
   "cell_type": "markdown",
   "metadata": {},
   "source": [
    "####  Northern Hemisphere - Cloudiness (%) vs. Latitude Linear Regression"
   ]
  },
  {
   "cell_type": "code",
   "execution_count": 17,
   "metadata": {},
   "outputs": [
    {
     "name": "stdout",
     "output_type": "stream",
     "text": [
      "There is no correlation between cloudiness and increasing latitude\n"
     ]
    },
    {
     "data": {
      "image/png": "[encoded data removed]",
      "text/plain": [
       "<Figure size 432x288 with 1 Axes>"
      ]
     },
     "metadata": {
      "needs_background": "light"
     },
     "output_type": "display_data"
    }
   ],
   "source": [
    "# create a subset of data for the northern hemisphere\n",
    "n_hemisphere = city_weather[city_weather['City_Latitude'] >= 0]\n",
    "\n",
    "# identify data for the latitude and cloudiness plot\n",
    "Latitude = n_hemisphere['City_Latitude']\n",
    "Cloudiness = n_hemisphere['Cloudiness']\n",
    "\n",
    "plt.xlabel('Latitude')\n",
    "plt.ylabel('% Cloudiness')\n",
    "plt.title('% Cloudiness by Latitude on 5/24/2021')\n",
    "\n",
    "# Plot the trendline\n",
    "x_values = Latitude\n",
    "y_values = Cloudiness\n",
    "(slope, intercept, rvalue, pvalue, stderr) = linregress(x_values, y_values)\n",
    "regress_values = x_values * slope + intercept\n",
    "line_eq = \"y = \" + str(round(slope,2)) + \"x + \" + str(round(intercept,2))\n",
    "plt.scatter(x_values,y_values)\n",
    "plt.plot(x_values,regress_values,\"r-\")\n",
    "plt.annotate(line_eq,(0,0),fontsize=10,color=\"red\")\n",
    "\n",
    "print('There is no correlation between cloudiness and increasing latitude')"
   ]
  },
  {
   "cell_type": "markdown",
   "metadata": {},
   "source": [
    "####  Southern Hemisphere - Cloudiness (%) vs. Latitude Linear Regression"
   ]
  },
  {
   "cell_type": "code",
   "execution_count": 18,
   "metadata": {},
   "outputs": [
    {
     "name": "stdout",
     "output_type": "stream",
     "text": [
      "There is no correlation between cloudiness and decreasing latitude\n"
     ]
    },
    {
     "data": {
      "image/png": "[encoded data removed]",
      "text/plain": [
       "<Figure size 432x288 with 1 Axes>"
      ]
     },
     "metadata": {
      "needs_background": "light"
     },
     "output_type": "display_data"
    }
   ],
   "source": [
    "# create a subset of data for the southern hemisphere\n",
    "s_hemisphere = city_weather[city_weather['City_Latitude'] < 0]\n",
    "\n",
    "# identify data for the latitude and cloudiness plot\n",
    "Latitude = s_hemisphere['City_Latitude']\n",
    "Cloudiness = s_hemisphere['Cloudiness']\n",
    "\n",
    "plt.xlabel('Latitude')\n",
    "plt.ylabel('% Cloudiness')\n",
    "plt.title('% Cloudiness by Latitude on 5/24/2021')\n",
    "\n",
    "# Plot the trendline\n",
    "x_values = Latitude\n",
    "y_values = Cloudiness\n",
    "(slope, intercept, rvalue, pvalue, stderr) = linregress(x_values, y_values)\n",
    "regress_values = x_values * slope + intercept\n",
    "line_eq = \"y = \" + str(round(slope,2)) + \"x + \" + str(round(intercept,2))\n",
    "plt.scatter(x_values,y_values)\n",
    "plt.plot(x_values,regress_values,\"r-\")\n",
    "plt.annotate(line_eq,(-55,0),fontsize=10,color=\"red\")\n",
    "\n",
    "print('There is no correlation between cloudiness and decreasing latitude')"
   ]
  },
  {
   "cell_type": "markdown",
   "metadata": {},
   "source": [
    "####  Northern Hemisphere - Wind Speed (mph) vs. Latitude Linear Regression"
   ]
  },
  {
   "cell_type": "code",
   "execution_count": 19,
   "metadata": {},
   "outputs": [
    {
     "name": "stdout",
     "output_type": "stream",
     "text": [
      "There is no correlation between wind speed and increasing latitude\n"
     ]
    },
    {
     "data": {
      "image/png": "[encoded data removed]",
      "text/plain": [
       "<Figure size 432x288 with 1 Axes>"
      ]
     },
     "metadata": {
      "needs_background": "light"
     },
     "output_type": "display_data"
    }
   ],
   "source": [
    "# create a subset of data for the northern hemisphere\n",
    "n_hemisphere = city_weather[city_weather['City_Latitude'] >= 0]\n",
    "\n",
    "# identify data for the latitude and wind speed plot\n",
    "Latitude = n_hemisphere['City_Latitude']\n",
    "Wind = n_hemisphere['Wind Speed']\n",
    "\n",
    "plt.xlabel('Latitude')\n",
    "plt.ylabel('Wind Speed (mph)')\n",
    "plt.title('Wind Speed (mph) by Latitude on 5/24/2021')\n",
    "\n",
    "# Plot the trendline\n",
    "x_values = Latitude\n",
    "y_values = Wind\n",
    "(slope, intercept, rvalue, pvalue, stderr) = linregress(x_values, y_values)\n",
    "regress_values = x_values * slope + intercept\n",
    "line_eq = \"y = \" + str(round(slope,2)) + \"x + \" + str(round(intercept,2))\n",
    "plt.scatter(x_values,y_values)\n",
    "plt.plot(x_values,regress_values,\"r-\")\n",
    "plt.annotate(line_eq,(0,0),fontsize=10,color=\"red\")\n",
    "\n",
    "print('There is no correlation between wind speed and increasing latitude')"
   ]
  },
  {
   "cell_type": "markdown",
   "metadata": {},
   "source": [
    "####  Southern Hemisphere - Wind Speed (mph) vs. Latitude Linear Regression"
   ]
  },
  {
   "cell_type": "code",
   "execution_count": 20,
   "metadata": {},
   "outputs": [
    {
     "name": "stdout",
     "output_type": "stream",
     "text": [
      "There is no correlation between wind speed and decreasing latitude\n"
     ]
    },
    {
     "data": {
      "image/png": "[encoded data removed]",
      "text/plain": [
       "<Figure size 432x288 with 1 Axes>"
      ]
     },
     "metadata": {
      "needs_background": "light"
     },
     "output_type": "display_data"
    }
   ],
   "source": [
    "# create a subset of data for the southern hemisphere\n",
    "s_hemisphere = city_weather[city_weather['City_Latitude'] < 0]\n",
    "\n",
    "# identify data for the latitude and wind speed plot\n",
    "Latitude = s_hemisphere['City_Latitude']\n",
    "Wind = s_hemisphere['Wind Speed']\n",
    "\n",
    "plt.xlabel('Latitude')\n",
    "plt.ylabel('Wind Speed (mph)')\n",
    "plt.title('Wind Speed (mph) by Latitude on 5/24/2021')\n",
    "\n",
    "# Plot the trendline\n",
    "x_values = Latitude\n",
    "y_values = Wind\n",
    "(slope, intercept, rvalue, pvalue, stderr) = linregress(x_values, y_values)\n",
    "regress_values = x_values * slope + intercept\n",
    "line_eq = \"y = \" + str(round(slope,2)) + \"x + \" + str(round(intercept,2))\n",
    "plt.scatter(x_values,y_values)\n",
    "plt.plot(x_values,regress_values,\"r-\")\n",
    "plt.annotate(line_eq,(-55,0),fontsize=10,color=\"red\")\n",
    "\n",
    "print('There is no correlation between wind speed and decreasing latitude')"
   ]
  },
  {
   "cell_type": "code",
   "execution_count": null,
   "metadata": {},
   "outputs": [],
   "source": []
  }
 ],
 "metadata": {
  "anaconda-cloud": {},
  "kernel_info": {
   "name": "python3"
  },
  "kernelspec": {
   "display_name": "Python 3",
   "language": "python",
   "name": "python3"
  },
  "language_info": {
   "codemirror_mode": {
    "name": "ipython",
    "version": 3
   },
   "file_extension": ".py",
   "mimetype": "text/x-python",
   "name": "python",
   "nbconvert_exporter": "python",
   "pygments_lexer": "ipython3",
   "version": "3.8.8"
  },
  "latex_envs": {
   "LaTeX_envs_menu_present": true,
   "autoclose": false,
   "autocomplete": true,
   "bibliofile": "biblio.bib",
   "cite_by": "apalike",
   "current_citInitial": 1,
   "eqLabelWithNumbers": true,
   "eqNumInitial": 1,
   "hotkeys": {
    "equation": "Ctrl-E",
    "itemize": "Ctrl-I"
   },
   "labels_anchors": false,
   "latex_user_defs": false,
   "report_style_numbering": false,
   "user_envs_cfg": false
  },
  "nteract": {
   "version": "0.12.3"
  }
 },
 "nbformat": 4,
 "nbformat_minor": 4
}
